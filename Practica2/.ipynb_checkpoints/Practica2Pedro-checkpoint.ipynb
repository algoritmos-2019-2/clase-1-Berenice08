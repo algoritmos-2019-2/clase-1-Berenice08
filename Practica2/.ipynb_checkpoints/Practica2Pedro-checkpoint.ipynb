{
 "cells": [
  {
   "cell_type": "markdown",
   "metadata": {},
   "source": [
    "# Funciones listas y tuplas\n",
    "\n",
    "## Responda las siguientes Preguntas"
   ]
  },
  {
   "cell_type": "markdown",
   "metadata": {},
   "source": [
    "PRACTICA 2"
   ]
  },
  {
   "cell_type": "markdown",
   "metadata": {},
   "source": [
    "¿Por qué son ventajosas las funciones para tener en sus programas?\n",
    "    Las funciones son pequeños fragmentos de código que se pueden llamar\n",
    "    las veces que sean necesarias sin necesidad de volver a escribir el\n",
    "    mismo código. Reduce el tiempo de desarrollo, tiempos menores de\n",
    "    mantenimiento del programa, mejora la legibilidad del programa\n",
    "    \n",
    "¿Cuándo se ejecuta el código en una función: cuando se define la función o cuando\n",
    "se llama a la función?\n",
    "    Cuando se llama a la función\n",
    "    \n",
    "¿Qué enunciado crea una función?\n",
    "    def mi_funcion()\n",
    "    \n",
    "¿Cuál es la diferencia entre una función y una llamada de función?\n",
    "    La función contiene el código y la llamada invoca a la función.\n",
    "    \n",
    "¿Cuántos ámbitos globales hay en un programa de Python? ¿Cuántos ámbitos locales?\n",
    "    Variable local: es aquella que sólo es utilizable dentro del código de la función. \n",
    "    Variable global: es aquella cuyo ámbito es todo elprograma, incluso dentro de una función\n",
    "        \n",
    "¿Qué sucede con las variables en un ámbito local cuando se devuelve la llamada a la función?\n",
    "    Solo existen durante el momento en el que es llamada la función. En el momento en el que esta concluye, desaparecen.\n",
    "    \n",
    "¿Qué es un valor de retorno? ¿Puede un valor de retorno ser parte de una expresión?\n",
    "    Es un dato que se devuelve a quien invoco la función, si puede ser el valor de retorno parte de una expresión.\n",
    "\n",
    "Si una función no tiene una declaración de retorno, ¿cuál es el valor de retorno de una llamada a esa función?\n",
    "    Es un valor especial llamado None.\n",
    "    \n",
    "¿Cómo puede forzar una variable en una función para referirse a la variable global?\n",
    "    Colocando la variable a que hace referencia fuera de la función.\n",
    "    \n",
    "¿Cuál es el tipo de datos de None?\n",
    "    Es el que representa un valor “vacío”.\n",
    "    \n",
    "¿Qué hace la declaración import random?\n",
    "    Permite tener acceso al modulo random,\n",
    "    \n",
    "Si tuviera una función llamada randint() en un módulo llamado random, ¿cómo lo llamaría después de importar random?\n",
    "    random.randint(start,end)"
   ]
  },
  {
   "cell_type": "raw",
   "metadata": {},
   "source": [
    "¿Qué es [] ?\n",
    "    Se utilizan para indicar los valores de una lista\n",
    "\n",
    "¿Cómo asignaría el valor &#39;hola&#39; como el tercer valor en una lista almacenada? en una variable llamada spam? (Supongamos que el spam contiene [2, 4, 6, 8, 10].)\n",
    "    spam[2]=”Hola”\n",
    "    \n",
    "    \n",
    "Para las siguientes tres preguntas, digamos que spam contiene la lista [2, 4, 6,8, 10].\n",
    "¿Qué evalúa spam[int (&#39;3&#39; * 2) / 11]?\n",
    "    Evalua el elemto de la lista cuyo indice es 3\n",
    "    \n",
    "¿Qué evalúa spam[-1]?\n",
    "El ultimo elemento de la lista\n",
    "\n",
    "¿Qué evalúa el spam[: 2]?\n",
    "    Evalua los dos primeros elemntos de la lista\n",
    "\n",
    "Para las siguientes tres preguntas, digamos que bacon contiene la lista [3.14, &#39;cat&#39;, 11, &#39;cat&#39;, True].\n",
    "\n",
    "¿Qué evalúa bacon.index(&#39;cat&#39;)?\n",
    "    Muestra el numero del indice del elemento\n",
    "\n",
    "¿Qué evalúa bacon.append(99)?\n",
    "    Agrega el elemento al final de la lista\n",
    "\n",
    "¿Qué hace bacon.remove(&#39;cat&#39;)?\n",
    "    Remueve el primer elemento de la lista que encuentra con el texto ‘cat’\n",
    "¿Cuáles son los operadores para la concatenación de listas y la replicación de listas?\n",
    "    Se utiliza el operador +\n",
    "    \n",
    "¿Cuál es la diferencia entre los métodos de lista append() e insert()?\n",
    "    La diferencia es la velocidad con la que se procesan, es mas rápido utilizar la función append()\n",
    "\n",
    "¿Cuál es la diferencia entre listas y tuplas?\n",
    "    Las tuplas son inmutables. Una vez se crea una tupla, no se puede cambiar ni su\n",
    "    contenido ni su tamaño, a menos que hagas una copia de la tupla.\n",
    "    Las listas se escriben entre paréntesis () en lugar de entre corchetes []."
   ]
  },
  {
   "cell_type": "markdown",
   "metadata": {},
   "source": [
    "### Proyecto Práctico \n",
    "\n",
    "Códifique las siguiente funciones:"
   ]
  },
  {
   "cell_type": "markdown",
   "metadata": {},
   "source": [
    "* ```testPrime()``` que verifique si un número es primo.\n",
    "* ```prime()``` que genere los primos menores o iguales que $n \\in \\mathbb{I}\\mathbb{N}$.\n",
    "* ```twinPrime()``` que regrese una tupla con los primos gemelos  menores o iguales que $n \\in \\mathbb{I}\\mathbb{N}$.\n",
    "* ```theoremArihtmetic()``` que regrese una lista con la descomposión en potencias de primos para cualquier $n \\in \\mathbb{I}\\mathbb{N}$.\n",
    "* ```mcm()``` que regrese el mínimo común multiplo de dos enteros.\n",
    "* ```MCD()``` que regrese el máximo común divisor de dos enteros."
   ]
  },
  {
   "cell_type": "code",
   "execution_count": 44,
   "metadata": {},
   "outputs": [],
   "source": [
    "#Verificar que un número es primo\n",
    "\n",
    "def testPrime(n):\n",
    "    if n<2:\n",
    "        return False         #el numero 1 o negativos no son primos\n",
    "\n",
    "    elif n==2:\n",
    "        return True           #el 2 si es primo\n",
    "                             \n",
    "    else:\n",
    "        for i in range (2,n):           \n",
    "            if n%i==0:                  #si la division entre el numero a evaluar e i es cero, ent se puede dividir entre otro numero \n",
    "                return False            #distinto de el o el 1 y por tanto no es primo\n",
    "                            \n",
    "            elif n%i!=0:                #si el residuo es distinto de cero, ent el numero no se puede dividir entre otro \n",
    "                return True             #por tanto es primo \n",
    "                            \n",
    "            "
   ]
  },
  {
   "cell_type": "code",
   "execution_count": 45,
   "metadata": {},
   "outputs": [
    {
     "data": {
      "text/plain": [
       "True"
      ]
     },
     "execution_count": 45,
     "metadata": {},
     "output_type": "execute_result"
    }
   ],
   "source": [
    "testPrime(2)\n"
   ]
  },
  {
   "cell_type": "code",
   "execution_count": 46,
   "metadata": {},
   "outputs": [],
   "source": [
    "#PRIMOS MENORES O IGUALES QUE N\n",
    "\n",
    "def prime(n):\n",
    "    for i in range (2, n+1):\n",
    "        if testPrime(i):\n",
    "            print(i,end=\",\")"
   ]
  },
  {
   "cell_type": "code",
   "execution_count": 47,
   "metadata": {},
   "outputs": [
    {
     "name": "stdout",
     "output_type": "stream",
     "text": [
      "2,3,5,7,9,11,13,15,17,19,"
     ]
    }
   ],
   "source": [
    "prime(19)"
   ]
  },
  {
   "cell_type": "code",
   "execution_count": 60,
   "metadata": {},
   "outputs": [],
   "source": [
    "#TUPLA CON LOS PRIMOS GEMELOS MENORES O IGUALES\n",
    "def twinPrime(n):\n",
    "    for i in range (2,n):\n",
    "        m=i+2\n",
    "        if (testPrime(i)and testPrime(m)):\n",
    "            print((i,m),sep=\",\",end=\",\")\n",
    "\n",
    "            #FALTA LA PARTE DE TUPLA\n",
    "            "
   ]
  },
  {
   "cell_type": "code",
   "execution_count": 61,
   "metadata": {},
   "outputs": [
    {
     "name": "stdout",
     "output_type": "stream",
     "text": [
      "(3, 5),(5, 7),(7, 9),(9, 11),(11, 13),(13, 15),(15, 17),(17, 19),(19, 21),"
     ]
    }
   ],
   "source": [
    "twinPrime(20)"
   ]
  },
  {
   "cell_type": "code",
   "execution_count": 75,
   "metadata": {},
   "outputs": [
    {
     "ename": "SyntaxError",
     "evalue": "invalid syntax (<ipython-input-75-0f0f496fe2a1>, line 6)",
     "output_type": "error",
     "traceback": [
      "\u001b[0;36m  File \u001b[0;32m\"<ipython-input-75-0f0f496fe2a1>\"\u001b[0;36m, line \u001b[0;32m6\u001b[0m\n\u001b[0;31m    for i range (2,num):\u001b[0m\n\u001b[0m              ^\u001b[0m\n\u001b[0;31mSyntaxError\u001b[0m\u001b[0;31m:\u001b[0m invalid syntax\n"
     ]
    }
   ],
   "source": [
    "#TEOREMA DE LA ARITMETICA\n",
    "\n",
    "def theoremArithmetic(num):\n",
    "    factorizado=str('')\n",
    "    \n",
    "    for i range (2,num):\n",
    "        contador=0\n",
    "        \n",
    "        while num%i==0\n",
    "            contador+=1\n",
    "            num=num/i\n",
    "        if contador>0\n",
    "            factorizado+=str(str(i)+)\n",
    "        else:\n",
    "            pass\n",
    "        if factorizado!='':\n",
    "            print(factorizado)\n",
    "            \n",
    "    "
   ]
  },
  {
   "cell_type": "code",
   "execution_count": 65,
   "metadata": {},
   "outputs": [],
   "source": [
    "#MINIMO COMUN MULTIPLO\n",
    "\n",
    "def mcm(a,b):\n",
    "    if a>b:\n",
    "        masgrande=a\n",
    "    else:\n",
    "        masgrande=b\n",
    "    while(True):\n",
    "        if ((masgrande%a==0)and(masgrande%b==0)):\n",
    "            mcm=masgrande\n",
    "            break\n",
    "        masgrande +=1\n",
    "        \n",
    "    return mcm"
   ]
  },
  {
   "cell_type": "code",
   "execution_count": 66,
   "metadata": {},
   "outputs": [
    {
     "data": {
      "text/plain": [
       "20"
      ]
     },
     "execution_count": 66,
     "metadata": {},
     "output_type": "execute_result"
    }
   ],
   "source": [
    "mcm(20,2)"
   ]
  },
  {
   "cell_type": "code",
   "execution_count": 69,
   "metadata": {},
   "outputs": [],
   "source": [
    "#MAXIMO COMUN DIVISOR\n",
    "\n",
    "def MCD(a,b):\n",
    "    if a>b:\n",
    "        mini=b\n",
    "    else:\n",
    "        mini=a\n",
    "    for i in range (1,mini+1):\n",
    "        if ((a%i==0)and(b%i==0)):\n",
    "            MCD=i\n",
    "    return (MCD)"
   ]
  },
  {
   "cell_type": "code",
   "execution_count": 71,
   "metadata": {},
   "outputs": [
    {
     "data": {
      "text/plain": [
       "2"
      ]
     },
     "execution_count": 71,
     "metadata": {},
     "output_type": "execute_result"
    }
   ],
   "source": [
    "MCD(10,2)"
   ]
  },
  {
   "cell_type": "code",
   "execution_count": null,
   "metadata": {},
   "outputs": [],
   "source": []
  }
 ],
 "metadata": {
  "kernelspec": {
   "display_name": "Python 3",
   "language": "python",
   "name": "python3"
  },
  "language_info": {
   "codemirror_mode": {
    "name": "ipython",
    "version": 3
   },
   "file_extension": ".py",
   "mimetype": "text/x-python",
   "name": "python",
   "nbconvert_exporter": "python",
   "pygments_lexer": "ipython3",
   "version": "3.7.1"
  }
 },
 "nbformat": 4,
 "nbformat_minor": 2
}
