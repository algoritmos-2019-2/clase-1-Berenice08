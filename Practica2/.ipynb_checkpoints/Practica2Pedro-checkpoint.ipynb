{
 "cells": [
  {
   "cell_type": "markdown",
   "metadata": {},
   "source": [
    "# Funciones listas y tuplas\n",
    "\n",
    "## Responda las siguientes Preguntas"
   ]
  },
  {
   "cell_type": "markdown",
   "metadata": {},
   "source": [
    "PRACTICA 2"
   ]
  },
  {
   "cell_type": "markdown",
   "metadata": {},
   "source": [
    "¿Por qué son ventajosas las funciones para tener en sus programas?\n",
    "    Las funciones son pequeños fragmentos de código que se pueden llamar\n",
    "    las veces que sean necesarias sin necesidad de volver a escribir el\n",
    "    mismo código. Reduce el tiempo de desarrollo, tiempos menores de\n",
    "    mantenimiento del programa, mejora la legibilidad del programa\n",
    "    \n",
    "¿Cuándo se ejecuta el código en una función: cuando se define la función o cuando\n",
    "se llama a la función?\n",
    "\n",
    "    Cuando se llama a la función\n",
    "    \n",
    "¿Qué enunciado crea una función?\n",
    "\n",
    "    def mi_funcion()\n",
    "    \n",
    "¿Cuál es la diferencia entre una función y una llamada de función?\n",
    "\n",
    "    La función contiene el código y la llamada invoca a la función.\n",
    "    \n",
    "¿Cuántos ámbitos globales hay en un programa de Python? ¿Cuántos ámbitos locales?\n",
    "\n",
    "    Variable local: es aquella que sólo es utilizable dentro del código de la función. \n",
    "    Variable global: es aquella cuyo ámbito es todo elprograma, incluso dentro de una función\n",
    "        \n",
    "¿Qué sucede con las variables en un ámbito local cuando se devuelve la llamada a la función?\n",
    "\n",
    "    Solo existen durante el momento en el que es llamada la función. En el momento en el que esta concluye, \"desaparecen\".\n",
    "    \n",
    "¿Qué es un valor de retorno? ¿Puede un valor de retorno ser parte de una expresión?\n",
    "\n",
    "    Es un dato que se devuelve a quien invoco la función, si puede ser el valor de retorno parte de una expresión.\n",
    "\n",
    "Si una función no tiene una declaración de retorno, ¿cuál es el valor de retorno de una llamada a esa función?\n",
    "\n",
    "    Es un valor especial llamado None.\n",
    "    \n",
    "¿Cómo puede forzar una variable en una función para referirse a la variable global?\n",
    "\n",
    "    Colocando la variable a que hace referencia fuera de la función.\n",
    "    \n",
    "¿Cuál es el tipo de datos de None?\n",
    "\n",
    "    Es el que representa un valor “vacío”.\n",
    "    \n",
    "¿Qué hace la declaración import random?\n",
    "\n",
    "    Permite tener acceso al modulo random,\n",
    "    \n",
    "Si tuviera una función llamada randint() en un módulo llamado random, ¿cómo lo llamaría después de importar random?\n",
    "\n",
    "    random.randint(start,end)"
   ]
  },
  {
   "cell_type": "markdown",
   "metadata": {},
   "source": [
    "¿Qué es [] ?\n",
    "\n",
    "    Se utilizan para indicar los valores de una lista\n",
    "\n",
    "¿Cómo asignaría el valor &#39;hola&#39; como el tercer valor en una lista almacenada? en una variable llamada spam?\n",
    "(Supongamos que el spam contiene [2, 4, 6, 8, 10].)\n",
    "\n",
    "    spam[2]=”Hola”\n",
    "    \n",
    "    \n",
    "Para las siguientes tres preguntas, digamos que spam contiene la lista [2, 4, 6,8, 10].\n",
    "¿Qué evalúa spam[int (&#39;3&#39; * 2) / 11]?\n",
    "\n",
    "    Evalua el elemto de la lista cuyo indice es 3\n",
    "    \n",
    "¿Qué evalúa spam[-1]?\n",
    "\n",
    "    El ultimo elemento de la lista\n",
    "\n",
    "¿Qué evalúa el spam[: 2]?\n",
    "\n",
    "    Evalua los dos primeros elemntos de la lista\n",
    "\n",
    "Para las siguientes tres preguntas, digamos que bacon contiene la lista [3.14, &#39;cat&#39;, 11, &#39;cat&#39;, True].\n",
    "\n",
    "¿Qué evalúa bacon.index(&#39;cat&#39;)?\n",
    "\n",
    "    Muestra el numero del indice del elemento\n",
    "\n",
    "¿Qué evalúa bacon.append(99)?\n",
    "\n",
    "    Agrega el elemento al final de la lista\n",
    "\n",
    "¿Qué hace bacon.remove(&#39;cat&#39;)?\n",
    "\n",
    "    Remueve el primer elemento de la lista que encuentra con el texto ‘cat’\n",
    "    \n",
    "¿Cuáles son los operadores para la concatenación de listas y la replicación de listas?\n",
    "    \n",
    "    Se utiliza el operador +\n",
    "    \n",
    "¿Cuál es la diferencia entre los métodos de lista append() e insert()?\n",
    "    \n",
    "    La diferencia es la velocidad con la que se procesan, es mas rápido utilizar la función append()\n",
    "\n",
    "¿Cuál es la diferencia entre listas y tuplas?\n",
    "    \n",
    "    Las tuplas son inmutables. Una vez se crea una tupla, no se puede cambiar ni su\n",
    "    contenido ni su tamaño, a menos que hagas una copia de la tupla.\n",
    "    Las listas se escriben entre paréntesis () en lugar de entre corchetes []."
   ]
  },
  {
   "cell_type": "markdown",
   "metadata": {},
   "source": [
    "### Proyecto Práctico \n",
    "\n",
    "Códifique las siguiente funciones:"
   ]
  },
  {
   "cell_type": "markdown",
   "metadata": {},
   "source": [
    "* ```testPrime()``` que verifique si un número es primo.\n",
    "* ```prime()``` que genere los primos menores o iguales que $n \\in \\mathbb{I}\\mathbb{N}$.\n",
    "* ```twinPrime()``` que regrese una tupla con los primos gemelos  menores o iguales que $n \\in \\mathbb{I}\\mathbb{N}$.\n",
    "* ```theoremArihtmetic()``` que regrese una lista con la descomposión en potencias de primos para cualquier $n \\in \\mathbb{I}\\mathbb{N}$.\n",
    "* ```mcm()``` que regrese el mínimo común multiplo de dos enteros.\n",
    "* ```MCD()``` que regrese el máximo común divisor de dos enteros."
   ]
  },
  {
   "cell_type": "code",
   "execution_count": 86,
   "metadata": {},
   "outputs": [],
   "source": [
    "#VERIFICAR QUE UN NUMERO SEA PRIMO\n",
    "#SI AL LLAMAR LA FUNCION REGRESA TRUE entonces si es primo\n",
    "#SI REGRESA FALSE entonces no es primo\n",
    "\n",
    "def testPrime(n):\n",
    "    \n",
    "    if n >1:\n",
    "        for i in range(2,(n//2)+1):\n",
    "            if (n%i)==0:   #si es divisible entre otro numero que no sea el mismo (residuo igual a cero)\n",
    "                return False\n",
    "            \n",
    "                break\n",
    "        else:\n",
    "            return (True)\n",
    "    else:\n",
    "        return(False)"
   ]
  },
  {
   "cell_type": "code",
   "execution_count": 98,
   "metadata": {},
   "outputs": [
    {
     "data": {
      "text/plain": [
       "False"
      ]
     },
     "execution_count": 98,
     "metadata": {},
     "output_type": "execute_result"
    }
   ],
   "source": [
    "testPrime(15)"
   ]
  },
  {
   "cell_type": "code",
   "execution_count": 100,
   "metadata": {},
   "outputs": [],
   "source": [
    "#PRIMOS MENORES O IGUALES QUE N\n",
    "\n",
    "def prime(n):\n",
    "    for i in range (2, n+1):\n",
    "        if testPrime(i):\n",
    "            print(i,end=\",\")"
   ]
  },
  {
   "cell_type": "code",
   "execution_count": 101,
   "metadata": {},
   "outputs": [
    {
     "name": "stdout",
     "output_type": "stream",
     "text": [
      "2,3,5,7,11,13,17,19,23,29,31,37,41,43,47,53,59,61,67,71,73,79,83,89,97,"
     ]
    }
   ],
   "source": [
    "prime(97)"
   ]
  },
  {
   "cell_type": "code",
   "execution_count": 59,
   "metadata": {},
   "outputs": [],
   "source": [
    "#TUPLA CON LOS PRIMOS GEMELOS MENORES O IGUALES\n",
    "def twinPrime(n):\n",
    "    mylist=[]\n",
    "\n",
    "    for i in range (2,n):\n",
    "        m=i+2\n",
    "        if (testPrime(i)and testPrime(m)):\n",
    "            a=(i,m)\n",
    "            mylist.append(a)  #lo guarda en la lista mylist\n",
    "    tuplatwin=tuple(mylist)    #convierte la lista en tupla\n",
    "    print(tuplatwin)\n",
    "            "
   ]
  },
  {
   "cell_type": "code",
   "execution_count": 104,
   "metadata": {},
   "outputs": [
    {
     "name": "stdout",
     "output_type": "stream",
     "text": [
      "((3, 5), (5, 7))\n"
     ]
    }
   ],
   "source": [
    "twinPrime(10)"
   ]
  },
  {
   "cell_type": "code",
   "execution_count": 84,
   "metadata": {},
   "outputs": [],
   "source": [
    "#TEOREMA DE LA ARITMETICA\n",
    "\n",
    "\n",
    "def theoremArithmetic(num):\n",
    "    f=str('')         #cadena\n",
    "    for i in range(2,num):\n",
    "        contador=0    #contador empieza en cero\n",
    "        while num%i==0:  #si el numero no es primo\n",
    "            contador+=1   \n",
    "            num=num/i\n",
    "        if contador>0:\n",
    "            f+=str(str(i)+\"^\"+str(contador)+\" • \")\n",
    "        else:\n",
    "            pass\n",
    "    if f!='':\n",
    "        print(f)\n",
    "    else:           #si el numero si es primo\n",
    "        print(str(num)+\"^1\")\n",
    "            \n",
    "    "
   ]
  },
  {
   "cell_type": "code",
   "execution_count": 85,
   "metadata": {},
   "outputs": [
    {
     "name": "stdout",
     "output_type": "stream",
     "text": [
      "2^2 • 37^1 • \n"
     ]
    }
   ],
   "source": [
    "theoremArithmetic(148)"
   ]
  },
  {
   "cell_type": "code",
   "execution_count": 77,
   "metadata": {},
   "outputs": [],
   "source": [
    "#MINIMO COMUN MULTIPLO\n",
    "\n",
    "def mcm(a,b):\n",
    "    if a>b:\n",
    "        masgrande=a\n",
    "    else:\n",
    "        masgrande=b\n",
    "    while(True):\n",
    "        if ((masgrande%a==0)and(masgrande%b==0)):\n",
    "            mcm=masgrande\n",
    "            break\n",
    "        masgrande +=1\n",
    "        \n",
    "    return mcm"
   ]
  },
  {
   "cell_type": "code",
   "execution_count": 80,
   "metadata": {},
   "outputs": [
    {
     "data": {
      "text/plain": [
       "20"
      ]
     },
     "execution_count": 80,
     "metadata": {},
     "output_type": "execute_result"
    }
   ],
   "source": [
    "mcm(4,5)"
   ]
  },
  {
   "cell_type": "code",
   "execution_count": 82,
   "metadata": {},
   "outputs": [],
   "source": [
    "#MAXIMO COMUN DIVISOR\n",
    "\n",
    "def MCD(a,b):\n",
    "    if a>b:\n",
    "        mini=b\n",
    "    else:\n",
    "        mini=a\n",
    "    for i in range (1,mini+1):\n",
    "        if ((a%i==0)and(b%i==0)):\n",
    "            MCD=i\n",
    "    return (MCD)"
   ]
  },
  {
   "cell_type": "code",
   "execution_count": 83,
   "metadata": {},
   "outputs": [
    {
     "data": {
      "text/plain": [
       "5"
      ]
     },
     "execution_count": 83,
     "metadata": {},
     "output_type": "execute_result"
    }
   ],
   "source": [
    "MCD(15,20)"
   ]
  },
  {
   "cell_type": "code",
   "execution_count": null,
   "metadata": {},
   "outputs": [],
   "source": []
  }
 ],
 "metadata": {
  "kernelspec": {
   "display_name": "Python 3",
   "language": "python",
   "name": "python3"
  },
  "language_info": {
   "codemirror_mode": {
    "name": "ipython",
    "version": 3
   },
   "file_extension": ".py",
   "mimetype": "text/x-python",
   "name": "python",
   "nbconvert_exporter": "python",
   "pygments_lexer": "ipython3",
   "version": "3.7.1"
  }
 },
 "nbformat": 4,
 "nbformat_minor": 2
}
