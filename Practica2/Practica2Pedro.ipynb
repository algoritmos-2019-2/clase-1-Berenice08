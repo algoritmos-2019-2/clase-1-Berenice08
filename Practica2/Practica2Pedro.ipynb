{
 "cells": [
  {
   "cell_type": "markdown",
   "metadata": {},
   "source": [
    "# Funciones listas y tuplas\n",
    "\n",
    "## Responda las siguientes Preguntas"
   ]
  },
  {
   "cell_type": "code",
   "execution_count": null,
   "metadata": {},
   "outputs": [],
   "source": [
    "¿Por qué son ventajosas las funciones para tener en sus programas?\n",
    "o Las funciones son pequeños fragmentos de código que se pueden llamar\n",
    "las veces que sean necesarias sin necesidad de volver a escribir el\n",
    "mismo código. Reduce el tiempo de desarrollo, tiempos menores de\n",
    "mantenimiento del programa, mejora la legibilidad del programa\n",
    " ¿Cuándo se ejecuta el código en una función: cuando se define la función o cuando\n",
    "se llama a la función?\n",
    "o Cuando se llama a la función\n",
    " ¿Qué enunciado crea una función?\n",
    "o def mi_funcion()\n",
    " ¿Cuál es la diferencia entre una función y una llamada de función?\n",
    "o La función contiene el código y la llamada invoca a la función.\n",
    " ¿Cuántos ámbitos globales hay en un programa de Python? ¿Cuántos ámbitos\n",
    "locales?\n",
    "o Variable local: es aquella que sólo es utilizable dentro del código de\n",
    "la función. Variable global: es aquella cuyo ámbito es todo el\n",
    "programa, incluso dentro de una función\n",
    "\n",
    " ¿Qué sucede con las variables en un ámbito local cuando se devuelve la llamada a\n",
    "la función?\n",
    "o Solo existen durante el momento en el que es llamada la función. En\n",
    "el momento en el que esta concluye, desaparecen\n",
    "\n",
    " ¿Qué es un valor de retorno? ¿Puede un valor de retorno ser parte de una\n",
    "expresión?\n",
    "o Es un dato que se devuelve a quien invoco la función, si puede ser el\n",
    "valor de retorno parte de una expresión.\n",
    "\n",
    " Si una función no tiene una declaración de retorno, ¿cuál es el valor de retorno de\n",
    "una llamada a esa función?\n",
    "o Es un valor especial llamado None.\n",
    " ¿Cómo puede forzar una variable en una función para referirse a la variable global?\n",
    "o Colocando la variable a que hace referencia fuera de la función.\n",
    " ¿Cuál es el tipo de datos de None?\n",
    "o Es el que representa un valor “vacío”.\n",
    " ¿Qué hace la declaración import random?\n",
    "o Permite tener acceso al modulo random,\n",
    " Si tuviera una función llamada randint() en un módulo llamado random, ¿cómo lo\n",
    "llamaría después de importar random?\n",
    "o random.randint(start,end)"
   ]
  },
  {
   "cell_type": "markdown",
   "metadata": {},
   "source": [
    "### Funciones\n",
    "\n",
    "* ¿Por qué son ventajosas las funciones para tener en sus programas?\n",
    "* ¿Cuándo se ejecuta el código en una función: cuando se define la función o cuando se llama a la función?\n",
    "* ¿Qué enunciado crea una función?\n",
    "* ¿Cuál es la diferencia entre una función y una llamada de función?\n",
    "* ¿Cuántos ámbitos globales hay en un programa de Python? ¿Cuántos ámbitos locales?\n",
    "* ¿Qué sucede con las variables en un ámbito local cuando se devuelve la llamada a la función?\n",
    "* ¿Qué es un valor de retorno? ¿Puede un valor de retorno ser parte de una expresión?\n",
    "* Si una función no tiene una declaración de retorno, ¿cuál es el valor de retorno de una llamada a esa función?. \n",
    "* ¿Cómo puede forzar una variable en una función para referirse a la variable global?\n",
    "* ¿Cuál es el tipo de datos de ```None```?\n",
    "* ¿Qué hace la declaración ```import random```?\n",
    "* Si tuviera una función llamada ```randint()``` en un módulo llamado ```random```, ¿cómo lo llamaría después de importar ```random```?"
   ]
  },
  {
   "cell_type": "markdown",
   "metadata": {},
   "source": [
    "### Lista y tuplas\n",
    "* ¿Qué es ```[]```?\n",
    "* ¿Cómo asignaría el valor ```'hola'``` como el tercer valor en una lista almacenada? en una variable llamada spam? (Supongamos que el ```spam``` contiene ```[2, 4, 6, 8, 10]```.) Para las siguientes tres preguntas, digamos que ```spam``` contiene la lista ```[2, 4, 6, 8, 10]```.\n",
    "* ¿Qué evalúa ```spam[int ('3' * 2) / 11]```?\n",
    "* ¿Qué evalúa ```spam[-1]```?\n",
    "* ¿Qué evalúa el ```spam[: 2]```?\n",
    "\n",
    "Para las siguientes tres preguntas, digamos que ```bacon``` contiene la lista ```[3.14, 'cat', 11, 'cat', True]```.\n",
    "* ¿Qué evalúa ```bacon.index('cat')```?\n",
    "* ¿Qué evalúa ```bacon.append(99)```?\n",
    "* ¿Qué hace ```bacon.remove('cat')```?\n",
    "* ¿Cuáles son los operadores para la concatenación de listas y la replicación de listas?\n",
    "* ¿Cuál es la diferencia entre los métodos de lista ```append()``` e ```insert()```?\n",
    "* ¿Cuál es la diferencia entre listas y tuplas?"
   ]
  },
  {
   "cell_type": "markdown",
   "metadata": {},
   "source": [
    "### Proyecto Práctico \n",
    "\n",
    "Códifique las siguiente funciones:"
   ]
  },
  {
   "cell_type": "markdown",
   "metadata": {},
   "source": [
    "* ```testPrime()``` que verifique si un número es primo.\n",
    "* ```prime()``` que genere los primos menores o iguales que $n \\in \\mathbb{I}\\mathbb{N}$.\n",
    "* ```twinPrime()``` que regrese una tupla con los primos gemelos  menores o iguales que $n \\in \\mathbb{I}\\mathbb{N}$.\n",
    "* ```theoremArihtmetic()``` que regrese una lista con la descomposión en potencias de primos para cualquier $n \\in \\mathbb{I}\\mathbb{N}$.\n",
    "* ```mcm()``` que regrese el mínimo común multiplo de dos enteros.\n",
    "* ```MCD()``` que regrese el máximo común divisor de dos enteros."
   ]
  },
  {
   "cell_type": "code",
   "execution_count": 21,
   "metadata": {},
   "outputs": [],
   "source": [
    "def testPrime(n):\n",
    "    if n<2:\n",
    "        return False\n",
    "    elif n==2:\n",
    "        return True\n",
    "    else:\n",
    "        for i in range (2,n):\n",
    "            if n%i==0:\n",
    "                return False\n",
    "            elif n%i!=0:\n",
    "                return True\n",
    "            "
   ]
  },
  {
   "cell_type": "code",
   "execution_count": 15,
   "metadata": {},
   "outputs": [
    {
     "name": "stdout",
     "output_type": "stream",
     "text": [
      "13\n"
     ]
    }
   ],
   "source": [
    "\n"
   ]
  },
  {
   "cell_type": "code",
   "execution_count": null,
   "metadata": {},
   "outputs": [],
   "source": [
    "def prueba(m):\n",
    "    while m<=2\n",
    "        if testPrime(c)==True\n",
    "        return print(m)\n",
    "        c=c+1"
   ]
  },
  {
   "cell_type": "code",
   "execution_count": null,
   "metadata": {},
   "outputs": [],
   "source": [
    "prueba(13)"
   ]
  },
  {
   "cell_type": "code",
   "execution_count": null,
   "metadata": {},
   "outputs": [],
   "source": []
  },
  {
   "cell_type": "code",
   "execution_count": null,
   "metadata": {},
   "outputs": [],
   "source": []
  },
  {
   "cell_type": "code",
   "execution_count": null,
   "metadata": {},
   "outputs": [],
   "source": []
  },
  {
   "cell_type": "code",
   "execution_count": null,
   "metadata": {},
   "outputs": [],
   "source": []
  },
  {
   "cell_type": "code",
   "execution_count": null,
   "metadata": {},
   "outputs": [],
   "source": []
  }
 ],
 "metadata": {
  "kernelspec": {
   "display_name": "Python 3",
   "language": "python",
   "name": "python3"
  },
  "language_info": {
   "codemirror_mode": {
    "name": "ipython",
    "version": 3
   },
   "file_extension": ".py",
   "mimetype": "text/x-python",
   "name": "python",
   "nbconvert_exporter": "python",
   "pygments_lexer": "ipython3",
   "version": "3.7.1"
  }
 },
 "nbformat": 4,
 "nbformat_minor": 2
}
