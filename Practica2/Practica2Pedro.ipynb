{
 "cells": [
  {
   "cell_type": "markdown",
   "metadata": {},
   "source": [
    "# Funciones listas y tuplas\n",
    "\n",
    "## Responda las siguientes Preguntas"
   ]
  },
  {
   "cell_type": "code",
   "execution_count": null,
   "metadata": {},
   "outputs": [],
   "source": [
    "¿Por qué son ventajosas las funciones para tener en sus programas?\n",
    "    Las funciones son pequeños fragmentos de código que se pueden llamar\n",
    "    las veces que sean necesarias sin necesidad de volver a escribir el\n",
    "    mismo código. Reduce el tiempo de desarrollo, tiempos menores de\n",
    "    mantenimiento del programa, mejora la legibilidad del programa\n",
    "    \n",
    "¿Cuándo se ejecuta el código en una función: cuando se define la función o cuando\n",
    "se llama a la función?\n",
    "    Cuando se llama a la función\n",
    "    \n",
    "¿Qué enunciado crea una función?\n",
    "    def mi_funcion()\n",
    "    \n",
    "¿Cuál es la diferencia entre una función y una llamada de función?\n",
    "    La función contiene el código y la llamada invoca a la función.\n",
    "    \n",
    "¿Cuántos ámbitos globales hay en un programa de Python? ¿Cuántos ámbitos locales?\n",
    "    Variable local: es aquella que sólo es utilizable dentro del código de la función. \n",
    "    Variable global: es aquella cuyo ámbito es todo elprograma, incluso dentro de una función\n",
    "        \n",
    "¿Qué sucede con las variables en un ámbito local cuando se devuelve la llamada a la función?\n",
    "    Solo existen durante el momento en el que es llamada la función. En el momento en el que esta concluye, desaparecen.\n",
    "    \n",
    "¿Qué es un valor de retorno? ¿Puede un valor de retorno ser parte de una expresión?\n",
    "    Es un dato que se devuelve a quien invoco la función, si puede ser el valor de retorno parte de una expresión.\n",
    "\n",
    "Si una función no tiene una declaración de retorno, ¿cuál es el valor de retorno de una llamada a esa función?\n",
    "    Es un valor especial llamado None.\n",
    "    \n",
    "¿Cómo puede forzar una variable en una función para referirse a la variable global?\n",
    "    Colocando la variable a que hace referencia fuera de la función.\n",
    "    \n",
    "¿Cuál es el tipo de datos de None?\n",
    "    Es el que representa un valor “vacío”.\n",
    "    \n",
    "¿Qué hace la declaración import random?\n",
    "    Permite tener acceso al modulo random,\n",
    "    \n",
    "Si tuviera una función llamada randint() en un módulo llamado random, ¿cómo lo llamaría después de importar random?\n",
    "    random.randint(start,end)"
   ]
  },
  {
   "cell_type": "code",
   "execution_count": null,
   "metadata": {},
   "outputs": [],
   "source": [
    "¿Qué es []?\n",
    "o Se utilizan para indicar los valores de una lista\n",
    " ¿Cómo asignaría el valor &#39;hola&#39; como el tercer valor en una lista almacenada? en\n",
    "una variable llamada spam? (Supongamos que el spam contiene [2, 4, 6, 8,\n",
    "10].)\n",
    "o spam[2]=”Hola”\n",
    " Para las siguientes tres preguntas, digamos que spam contiene la lista [2, 4, 6,\n",
    "8, 10].\n",
    " ¿Qué evalúa spam[int (&#39;3&#39; * 2) / 11]?\n",
    "o Evalua el elemto de la lista cuyo indice es 3\n",
    " ¿Qué evalúa spam[-1]?\n",
    "o El ultimo elemento de la lista\n",
    " ¿Qué evalúa el spam[: 2]?\n",
    "o Evalua los dos primeros elemntos de la lista\n",
    "\n",
    "Para las siguientes tres preguntas, digamos que bacon contiene la lista [3.14, &#39;cat&#39;, 11,\n",
    "&#39;cat&#39;, True].\n",
    " ¿Qué evalúa bacon.index(&#39;cat&#39;)?\n",
    "o Muestra el numero del indice del elemento\n",
    " ¿Qué evalúa bacon.append(99)?\n",
    "o Agrega el elemento al final de la lista\n",
    " ¿Qué hace bacon.remove(&#39;cat&#39;)?\n",
    "o Remueve el primer elemento de la lista que encuentra con el texto ‘cat’\n",
    " ¿Cuáles son los operadores para la concatenación de listas y la replicación de\n",
    "listas?\n",
    "o Se utiliza el operador +\n",
    " ¿Cuál es la diferencia entre los métodos de lista append() e insert()?\n",
    " La diferencia es la velocidad con la que se procesan, es mas rápido utilizar la función\n",
    "append()\n",
    " ¿Cuál es la diferencia entre listas y tuplas?\n",
    " Las tuplas son inmutables. Una vez se crea una tupla, no se puede cambiar ni su\n",
    "contenido ni su tamaño, a menos que hagas una copia de la tupla.\n",
    " Se escriben entre paréntesis () en lugar de entre corchetes []."
   ]
  },
  {
   "cell_type": "markdown",
   "metadata": {},
   "source": [
    "### Proyecto Práctico \n",
    "\n",
    "Códifique las siguiente funciones:"
   ]
  },
  {
   "cell_type": "markdown",
   "metadata": {},
   "source": [
    "* ```testPrime()``` que verifique si un número es primo.\n",
    "* ```prime()``` que genere los primos menores o iguales que $n \\in \\mathbb{I}\\mathbb{N}$.\n",
    "* ```twinPrime()``` que regrese una tupla con los primos gemelos  menores o iguales que $n \\in \\mathbb{I}\\mathbb{N}$.\n",
    "* ```theoremArihtmetic()``` que regrese una lista con la descomposión en potencias de primos para cualquier $n \\in \\mathbb{I}\\mathbb{N}$.\n",
    "* ```mcm()``` que regrese el mínimo común multiplo de dos enteros.\n",
    "* ```MCD()``` que regrese el máximo común divisor de dos enteros."
   ]
  },
  {
   "cell_type": "code",
   "execution_count": 21,
   "metadata": {},
   "outputs": [],
   "source": [
    "def testPrime(n):\n",
    "    if n<2:\n",
    "        return False\n",
    "    elif n==2:\n",
    "        return True\n",
    "    else:\n",
    "        for i in range (2,n):\n",
    "            if n%i==0:\n",
    "                return False\n",
    "            elif n%i!=0:\n",
    "                return True\n",
    "            "
   ]
  },
  {
   "cell_type": "code",
   "execution_count": 15,
   "metadata": {},
   "outputs": [
    {
     "name": "stdout",
     "output_type": "stream",
     "text": [
      "13\n"
     ]
    }
   ],
   "source": [
    "\n"
   ]
  },
  {
   "cell_type": "code",
   "execution_count": null,
   "metadata": {},
   "outputs": [],
   "source": [
    "def prueba(m):\n",
    "    while m<=2\n",
    "        if testPrime(c)==True\n",
    "        return print(m)\n",
    "        c=c+1"
   ]
  },
  {
   "cell_type": "code",
   "execution_count": null,
   "metadata": {},
   "outputs": [],
   "source": [
    "prueba(13)"
   ]
  },
  {
   "cell_type": "code",
   "execution_count": null,
   "metadata": {},
   "outputs": [],
   "source": []
  },
  {
   "cell_type": "code",
   "execution_count": null,
   "metadata": {},
   "outputs": [],
   "source": []
  },
  {
   "cell_type": "code",
   "execution_count": null,
   "metadata": {},
   "outputs": [],
   "source": []
  },
  {
   "cell_type": "code",
   "execution_count": null,
   "metadata": {},
   "outputs": [],
   "source": []
  },
  {
   "cell_type": "code",
   "execution_count": null,
   "metadata": {},
   "outputs": [],
   "source": []
  }
 ],
 "metadata": {
  "kernelspec": {
   "display_name": "Python 3",
   "language": "python",
   "name": "python3"
  },
  "language_info": {
   "codemirror_mode": {
    "name": "ipython",
    "version": 3
   },
   "file_extension": ".py",
   "mimetype": "text/x-python",
   "name": "python",
   "nbconvert_exporter": "python",
   "pygments_lexer": "ipython3",
   "version": "3.7.1"
  }
 },
 "nbformat": 4,
 "nbformat_minor": 2
}
